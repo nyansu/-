{
  "nbformat": 4,
  "nbformat_minor": 0,
  "metadata": {
    "colab": {
      "provenance": []
    },
    "kernelspec": {
      "name": "python3",
      "display_name": "Python 3"
    },
    "language_info": {
      "name": "python"
    }
  },
  "cells": [
    {
      "cell_type": "code",
      "execution_count": 4,
      "metadata": {
        "colab": {
          "base_uri": "https://localhost:8080/"
        },
        "id": "-T0qlOQRY9Vw",
        "outputId": "b330ebc3-88ee-4d19-d94b-a57c30834d3e"
      },
      "outputs": [
        {
          "output_type": "stream",
          "name": "stdout",
          "text": [
            "[0.75925206 0.11436443 0.63378519 0.98819077 0.28931283]\n",
            "[0.75925206 0.11436443 0.63378519 0.         0.28931283]\n"
          ]
        }
      ],
      "source": [
        "import numpy as np\n",
        "\n",
        "# Создание массива со случайными значениями\n",
        "arr = np.random.rand(5)  # Пример: массив из 5 случайных чисел\n",
        "print(arr)\n",
        "# Замена максимального элемента на 0\n",
        "arr[arr.argmax()] = 0\n",
        "print(arr)"
      ]
    }
  ]
}