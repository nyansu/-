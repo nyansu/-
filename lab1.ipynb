{
  "cells": [
    {
      "cell_type": "code",
      "execution_count": 4,
      "metadata": {
        "colab": {
          "base_uri": "https://localhost:8080/"
        },
        "id": "-T0qlOQRY9Vw",
        "outputId": "b330ebc3-88ee-4d19-d94b-a57c30834d3e"
      },
      "outputs": [
        {
          "name": "stdout",
          "output_type": "stream",
          "text": [
            "[0.75925206 0.11436443 0.63378519 0.98819077 0.28931283]\n",
            "[0.75925206 0.11436443 0.63378519 0.         0.28931283]\n"
          ]
        }
      ],
      "source": [
        "import numpy as np\n",
        "\n",
        "# Создание массива со случайными значениями\n",
        "arr = np.random.rand(5)  # Пример: массив из 5 случайных чисел\n",
        "print(arr)\n",
        "# Замена максимального элемента на 0\n",
        "arr[arr.argmax()] = 0\n",
        "print(arr)"
      ]
    },
    {
      "cell_type": "code",
      "execution_count": null,
      "metadata": {},
      "outputs": [],
      "source": [
        "import numpy as np\n",
        "\n",
        "# Создаем матрицу 8x8, заполненную нулями\n",
        "matrix = np.zeros((8, 8), dtype=int)\n",
        "\n",
        "# Заполняем черные клетки значением 1\n",
        "matrix[1::2, ::2] = 1\n",
        "matrix[::2, 1::2] = 1\n",
        "\n",
        "# Выводим матрицу на экран\n",
        "print(matrix)"
      ]
    },
    {
      "cell_type": "code",
      "execution_count": null,
      "metadata": {},
      "outputs": [],
      "source": [
        "def create_matrix(n):\n",
        "  matrix = np.zeros((n, n))\n",
        "  matrix[[0, -1], :] = 1\n",
        "  matrix[:, [0, -1]] = 1\n",
        "  return matrix\n"
      ]
    }
  ],
  "metadata": {
    "colab": {
      "provenance": []
    },
    "kernelspec": {
      "display_name": "Python 3",
      "name": "python3"
    },
    "language_info": {
      "name": "python"
    }
  },
  "nbformat": 4,
  "nbformat_minor": 0
}
